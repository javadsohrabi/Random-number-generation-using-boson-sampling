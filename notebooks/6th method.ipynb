{
 "cells": [
  {
   "cell_type": "markdown",
   "id": "bcb5be3d",
   "metadata": {},
   "source": [
    "# Quantum Random Number Generation"
   ]
  },
  {
   "cell_type": "markdown",
   "id": "99d2767e",
   "metadata": {},
   "source": [
    "## Using Perceval Library\n",
    "\n",
    "[Perceval Docs](https://perceval.quandela.net/docs/)\n",
    "\n",
    "Installation:"
   ]
  },
  {
   "cell_type": "code",
   "execution_count": null,
   "id": "a7233931",
   "metadata": {},
   "outputs": [],
   "source": [
    "%%capture\n",
    "!pip install perceval-quandela tqdm"
   ]
  },
  {
   "cell_type": "markdown",
   "id": "9e516fa5",
   "metadata": {},
   "source": [
    "## Boson Sampling\n",
    "\n",
    "[Perceval Docs](https://perceval.quandela.net/docs/notebooks/Boson%20Sampling.html)"
   ]
  },
  {
   "cell_type": "markdown",
   "id": "41962d20",
   "metadata": {},
   "source": [
    "### Importing necessary methods"
   ]
  },
  {
   "cell_type": "code",
   "execution_count": 1,
   "id": "6b0ce47e",
   "metadata": {},
   "outputs": [],
   "source": [
    "from IPython import display\n",
    "from collections import Counter\n",
    "from tabulate import tabulate\n",
    "from tqdm.auto import tqdm\n",
    "import gzip\n",
    "import pickle\n",
    "import time\n",
    "\n",
    "import sympy as sp\n",
    "import random\n",
    "\n",
    "import perceval as pcvl\n",
    "import perceval.lib.symb as symb"
   ]
  },
  {
   "cell_type": "markdown",
   "id": "ebe3b800",
   "metadata": {},
   "source": [
    "#### Defining a function to measure performance"
   ]
  },
  {
   "cell_type": "code",
   "execution_count": 22,
   "id": "9c5ea2b6",
   "metadata": {},
   "outputs": [],
   "source": [
    "import itertools\n",
    "\n",
    "def qrng(bits,modes ,input_mode,backend='CliffordClifford2017'):\n",
    "    m = modes      #number of modes\n",
    "    \n",
    "    Unitary = pcvl.Matrix.random_unitary(m) #creates a random unitary of dimension m\n",
    "    \n",
    "    Sampling_Backend = pcvl.BackendFactory().get_backend(backend)\n",
    "    \n",
    "    # Photon modes:\n",
    "    if input_mode == 1:\n",
    "        # 1: |1,1,...,1,0,...,0>\n",
    "        baseState = f'|1{ (m//2 - 1) * \",1\"}{ (m//2) * \",0\"}>'\n",
    "    elif input_mode == 2:\n",
    "        # 2: |15,0,...,0>\n",
    "        baseState = f'|{ (m * 1) }{ (m-1) * \",0\"}>'       # Too Many Zeros\n",
    "    elif input_mode == 3:\n",
    "        # 3: |2,2,...2,1,...,1,0,...,0>\n",
    "        baseState = f'|3{ (m//4 - 1) * \",3\"}{ (m//4) * \",2\"}{ (m//4) * \",1\"}{ (m//4) * \",0\"}>'\n",
    "    elif input_mode == 4:\n",
    "        # 4: |2,2,...,2,0,...,0>\n",
    "        baseState = f'|2{ (m // 2 - 1) * \",2\" }{ (m // 2) * \",0\"}>'\n",
    "    elif input_mode == 5:\n",
    "        # 5: |1,1,...,1>\n",
    "        baseState = f'|1{ (m - 1) * \",1\" }>'\n",
    "\n",
    "    s1, s2 = [], []\n",
    "    processedBits = 0\n",
    "    while (processedBits <= bits):\n",
    "        sample = Sampling_Backend(Unitary).sample(pcvl.BasicState(baseState))\n",
    "        s1.append(sample[0])\n",
    "        s2.append(sample[1])\n",
    "        processedBits += 1\n",
    "\n",
    "    s1_normalized = [ 1 if i > 0 else 0 for i in s1[:bits]]\n",
    "    s2_normalized = [ 1 if i > 0 else 0 for i in s2[:bits]]\n",
    "    \n",
    "    result = []\n",
    "    \n",
    "    for index in range(len(s1_normalized)):\n",
    "        if s1_normalized[index] > s2_normalized[index]:\n",
    "            result.append(0)\n",
    "        elif s2_normalized[index] > s1_normalized[index]:\n",
    "            result.append(1)\n",
    "\n",
    "    return result"
   ]
  },
  {
   "cell_type": "code",
   "execution_count": 34,
   "id": "460d2854",
   "metadata": {},
   "outputs": [
    {
     "name": "stdout",
     "output_type": "stream",
     "text": [
      "Entropy:  0.6881\n",
      "Average value:  0.45\n",
      "Valid output length:  100\n"
     ]
    },
    {
     "data": {
      "image/png": "[encoded data removed]",
      "text/plain": [
       "<Figure size 720x360 with 1 Axes>"
      ]
     },
     "metadata": {
      "needs_background": "light"
     },
     "output_type": "display_data"
    },
    {
     "name": "stdout",
     "output_type": "stream",
     "text": [
      "CPU times: user 203 ms, sys: 63.8 ms, total: 267 ms\n",
      "Wall time: 111 ms\n"
     ]
    }
   ],
   "source": [
    "result = qrng(1000,modes=2,input_mode=1)\n",
    "# result = qrng(1000,modes=2,input_mode=2)\n",
    "# result = qrng(1000,modes=4,input_mode=3)\n",
    "# result = qrng(100,modes=2,input_mode=4)\n",
    "evaluate(result)"
   ]
  }
 ],
 "metadata": {
  "kernelspec": {
   "display_name": "Python 3 (ipykernel)",
   "language": "python",
   "name": "python3"
  },
  "language_info": {
   "codemirror_mode": {
    "name": "ipython",
    "version": 3
   },
   "file_extension": ".py",
   "mimetype": "text/x-python",
   "name": "python",
   "nbconvert_exporter": "python",
   "pygments_lexer": "ipython3",
   "version": "3.9.12"
  }
 },
 "nbformat": 4,
 "nbformat_minor": 5
}
