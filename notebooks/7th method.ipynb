{
 "cells": [
  {
   "cell_type": "markdown",
   "id": "bcb5be3d",
   "metadata": {},
   "source": [
    "# Quantum Random Number Generation"
   ]
  },
  {
   "cell_type": "markdown",
   "id": "99d2767e",
   "metadata": {},
   "source": [
    "## Using Perceval Library\n",
    "\n",
    "[Perceval Docs](https://perceval.quandela.net/docs/)\n",
    "\n",
    "Installation:"
   ]
  },
  {
   "cell_type": "code",
   "execution_count": null,
   "id": "a7233931",
   "metadata": {},
   "outputs": [],
   "source": [
    "%%capture\n",
    "!pip install perceval-quandela tqdm"
   ]
  },
  {
   "cell_type": "markdown",
   "id": "9e516fa5",
   "metadata": {},
   "source": [
    "## Boson Sampling\n",
    "\n",
    "[Perceval Docs](https://perceval.quandela.net/docs/notebooks/Boson%20Sampling.html)"
   ]
  },
  {
   "cell_type": "markdown",
   "id": "41962d20",
   "metadata": {},
   "source": [
    "### Importing necessary methods"
   ]
  },
  {
   "cell_type": "code",
   "execution_count": 1,
   "id": "6b0ce47e",
   "metadata": {},
   "outputs": [],
   "source": [
    "from IPython import display\n",
    "from collections import Counter\n",
    "from tabulate import tabulate\n",
    "from tqdm.auto import tqdm\n",
    "import gzip\n",
    "import pickle\n",
    "import time\n",
    "\n",
    "import sympy as sp\n",
    "import random\n",
    "\n",
    "import perceval as pcvl\n",
    "import perceval.lib.symb as symb"
   ]
  },
  {
   "cell_type": "markdown",
   "id": "ebe3b800",
   "metadata": {},
   "source": [
    "#### Defining a function to measure performance"
   ]
  },
  {
   "cell_type": "code",
   "execution_count": 4,
   "id": "69027b88",
   "metadata": {},
   "outputs": [],
   "source": [
    "from scipy.stats import entropy\n",
    "import numpy as np\n",
    "import matplotlib.pyplot as plt\n",
    "import random\n",
    "\n",
    "def evaluate(data):\n",
    "    value,counts = np.unique(data, return_counts=True)\n",
    "    print(\"Entropy: \", round(entropy(counts, base=None),4))\n",
    "    \n",
    "    average = sum(data)/len(data)\n",
    "    print(\"Average value: \", round(average,4))\n",
    "    \n",
    "    print(\"Valid output length: \", len(data))\n",
    "    \n",
    "    values = [0,0]\n",
    "    for i in data:\n",
    "        if i == 0:\n",
    "            values[0] += 1\n",
    "        else:\n",
    "            values[1] += 1\n",
    "            \n",
    "    # creating the dataset\n",
    "    py_rand = [random.randint(0,1) for _ in range(len(data))]\n",
    "    py_values = [0,0]\n",
    "    for i in py_rand:\n",
    "        py_values[i] += 1\n",
    "    \n",
    "    X = ['Zeros','Ones']\n",
    "    X_axis = np.arange(len(X))\n",
    "    \n",
    "    fig = plt.figure(figsize = (10, 5))\n",
    "\n",
    "    # creating the bar plot\n",
    "    plt.bar(X_axis - 0.2, values, 0.4, label = 'QRNG')\n",
    "    plt.bar(X_axis + 0.2, py_values, 0.4, label = 'Python')\n",
    "\n",
    "    plt.xticks(X_axis, X)\n",
    "    plt.xlabel(\"Bit Value\")\n",
    "    plt.ylabel(\"Count\")\n",
    "    plt.title(\"Random number distribution\")\n",
    "    plt.legend()\n",
    "    plt.show()"
   ]
  },
  {
   "cell_type": "markdown",
   "id": "ef01119b",
   "metadata": {},
   "source": [
    "###  [Perfect Boson sampling](https://perceval.quandela.net/docs/notebooks/Boson%20Sampling.html#Perfect-Boson-sampling)"
   ]
  },
  {
   "cell_type": "code",
   "execution_count": 42,
   "id": "a934ce96",
   "metadata": {},
   "outputs": [],
   "source": [
    "import itertools\n",
    "\n",
    "def qrng(bits,modes ,input_mode,backend='CliffordClifford2017'):\n",
    "    m = modes      #number of modes\n",
    "\n",
    "    Unitary = pcvl.Matrix.random_unitary(m) #creates a random unitary of dimension m\n",
    "    \n",
    "    Sampling_Backend = pcvl.BackendFactory().get_backend(backend)\n",
    "    \n",
    "    # Photon modes:\n",
    "    if input_mode == 1:\n",
    "        # 1: |1,1,...,1,0,...,0>\n",
    "        baseState = f'|1{ (m//2 - 1) * \",1\"}{ (m//2) * \",0\"}>'\n",
    "    elif input_mode == 2:\n",
    "        # 2: |15,0,...,0>\n",
    "        baseState = f'|{ (m * 1) }{ (m-1) * \",0\"}>'       # Too Many Zeros\n",
    "    elif input_mode == 3:\n",
    "        # 3: |2,2,...2,1,...,1,0,...,0>\n",
    "        baseState = f'|3{ (m//4 - 1) * \",3\"}{ (m//4) * \",2\"}{ (m//4) * \",1\"}{ (m//4) * \",0\"}>'\n",
    "    elif input_mode == 4:\n",
    "        # 4: |2,2,...,2,0,...,0>\n",
    "        baseState = f'|2{ (m // 2 - 1) * \",2\" }{ (m // 2) * \",0\"}>'\n",
    "    elif input_mode == 5:\n",
    "        # 5: |1,1,...,1>\n",
    "        baseState = f'|1{ (m - 1) * \",1\" }>'\n",
    "    \n",
    "    s1, s2, s3 = [], [], []\n",
    "    for _ in range(bits//m + 1):\n",
    "        s1.append([ i for i in Sampling_Backend(Unitary).sample(pcvl.BasicState(baseState))])\n",
    "        s2.append([ i for i in Sampling_Backend(Unitary).sample(pcvl.BasicState(baseState))])\n",
    "        s3.append([ i for i in Sampling_Backend(Unitary).sample(pcvl.BasicState(baseState))])\n",
    "\n",
    "    s1_raw = list(itertools.chain.from_iterable(s1))\n",
    "    s2_raw = list(itertools.chain.from_iterable(s2))\n",
    "    s3_raw = list(itertools.chain.from_iterable(s3))\n",
    "\n",
    "    s1_normalized = [ 1 if i > 0 else 0 for i in s1_raw[:bits]]\n",
    "    s2_normalized = [ 1 if i > 0 else 0 for i in s2_raw[:bits]]\n",
    "    s3_normalized = [ 1 if i > 0 else 0 for i in s3_raw[:bits]]\n",
    "    \n",
    "    result = []\n",
    "    \n",
    "    for index in range(len(s1_normalized)):\n",
    "        if s1_normalized[index] > s2_normalized[index]:\n",
    "            result.append(0)\n",
    "        elif s2_normalized[index] > s1_normalized[index]:\n",
    "            result.append(1)\n",
    "        elif s1_normalized[index] == s2_normalized[index]:\n",
    "            if s1_normalized[index] == 1 and s3_normalized == 0:\n",
    "                result.append(0)\n",
    "            elif s1_normalized[index] == 0 and s3_normalized == 1:\n",
    "                result.append(1) \n",
    "        else:\n",
    "            pass\n",
    "    return result"
   ]
  },
  {
   "cell_type": "code",
   "execution_count": 48,
   "id": "75aa10ac",
   "metadata": {},
   "outputs": [
    {
     "name": "stdout",
     "output_type": "stream",
     "text": [
      "Entropy:  0.6931\n",
      "Average value:  0.5\n",
      "Valid output length:  470\n"
     ]
    },
    {
     "data": {
      "image/png": "[encoded data removed]",
      "text/plain": [
       "<Figure size 720x360 with 1 Axes>"
      ]
     },
     "metadata": {
      "needs_background": "light"
     },
     "output_type": "display_data"
    },
    {
     "name": "stdout",
     "output_type": "stream",
     "text": [
      "CPU times: user 331 ms, sys: 88.8 ms, total: 420 ms\n",
      "Wall time: 263 ms\n"
     ]
    }
   ],
   "source": [
    "result = qrng(1000,modes=2,input_mode=1)\n",
    "# result = qrng(1000,modes=2,input_mode=2)\n",
    "# result = qrng(1000,modes=4,input_mode=3)\n",
    "# result = qrng(100,modes=2,input_mode=4)\n",
    "evaluate(result)"
   ]
  }
 ],
 "metadata": {
  "kernelspec": {
   "display_name": "Python 3 (ipykernel)",
   "language": "python",
   "name": "python3"
  },
  "language_info": {
   "codemirror_mode": {
    "name": "ipython",
    "version": 3
   },
   "file_extension": ".py",
   "mimetype": "text/x-python",
   "name": "python",
   "nbconvert_exporter": "python",
   "pygments_lexer": "ipython3",
   "version": "3.9.12"
  }
 },
 "nbformat": 4,
 "nbformat_minor": 5
}
